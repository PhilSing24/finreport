{
 "cells": [
  {
   "cell_type": "code",
   "execution_count": 52,
   "id": "350bd400",
   "metadata": {},
   "outputs": [],
   "source": [
    "import pandas as pd\n",
    "from sqlalchemy import create_engine, text\n",
    "from dotenv import load_dotenv\n",
    "from pathlib import Path\n",
    "import os"
   ]
  },
  {
   "cell_type": "code",
   "execution_count": null,
   "id": "eca63a4d",
   "metadata": {},
   "outputs": [],
   "source": [
    "\n",
    "load_dotenv(Path.home() / \"finreport\" / \".env\")\n",
    "\n",
    "PG_DSN = os.getenv(\"PG_DSN\", \"postgresql:///finreport\")  # PostgreSQL (PG) Data Source Name (DSN)\n",
    "engine = create_engine(PG_DSN)\n"
   ]
  },
  {
   "cell_type": "code",
   "execution_count": 34,
   "id": "e8ef69f2",
   "metadata": {},
   "outputs": [
    {
     "name": "stdout",
     "output_type": "stream",
     "text": [
      "postgresql:///finreport\n",
      "Engine(postgresql:///finreport)\n"
     ]
    }
   ],
   "source": [
    "print(PG_DSN)\n",
    "print(engine)"
   ]
  },
  {
   "cell_type": "code",
   "execution_count": 54,
   "id": "7d5026c6",
   "metadata": {},
   "outputs": [
    {
     "data": {
      "text/html": [
       "<div>\n",
       "<style scoped>\n",
       "    .dataframe tbody tr th:only-of-type {\n",
       "        vertical-align: middle;\n",
       "    }\n",
       "\n",
       "    .dataframe tbody tr th {\n",
       "        vertical-align: top;\n",
       "    }\n",
       "\n",
       "    .dataframe thead th {\n",
       "        text-align: right;\n",
       "    }\n",
       "</style>\n",
       "<table border=\"1\" class=\"dataframe\">\n",
       "  <thead>\n",
       "    <tr style=\"text-align: right;\">\n",
       "      <th></th>\n",
       "      <th>column_name</th>\n",
       "      <th>data_type</th>\n",
       "      <th>is_nullable</th>\n",
       "    </tr>\n",
       "  </thead>\n",
       "  <tbody>\n",
       "    <tr>\n",
       "      <th>0</th>\n",
       "      <td>id</td>\n",
       "      <td>text</td>\n",
       "      <td>NO</td>\n",
       "    </tr>\n",
       "    <tr>\n",
       "      <th>1</th>\n",
       "      <td>published_utc</td>\n",
       "      <td>timestamp with time zone</td>\n",
       "      <td>NO</td>\n",
       "    </tr>\n",
       "    <tr>\n",
       "      <th>2</th>\n",
       "      <td>title</td>\n",
       "      <td>text</td>\n",
       "      <td>YES</td>\n",
       "    </tr>\n",
       "    <tr>\n",
       "      <th>3</th>\n",
       "      <td>url</td>\n",
       "      <td>text</td>\n",
       "      <td>YES</td>\n",
       "    </tr>\n",
       "    <tr>\n",
       "      <th>4</th>\n",
       "      <td>description</td>\n",
       "      <td>text</td>\n",
       "      <td>YES</td>\n",
       "    </tr>\n",
       "    <tr>\n",
       "      <th>5</th>\n",
       "      <td>tickers</td>\n",
       "      <td>ARRAY</td>\n",
       "      <td>YES</td>\n",
       "    </tr>\n",
       "    <tr>\n",
       "      <th>6</th>\n",
       "      <td>tags</td>\n",
       "      <td>ARRAY</td>\n",
       "      <td>YES</td>\n",
       "    </tr>\n",
       "    <tr>\n",
       "      <th>7</th>\n",
       "      <td>published_date_utc</td>\n",
       "      <td>date</td>\n",
       "      <td>YES</td>\n",
       "    </tr>\n",
       "    <tr>\n",
       "      <th>8</th>\n",
       "      <td>full_body</td>\n",
       "      <td>text</td>\n",
       "      <td>YES</td>\n",
       "    </tr>\n",
       "    <tr>\n",
       "      <th>9</th>\n",
       "      <td>full_body_chars</td>\n",
       "      <td>integer</td>\n",
       "      <td>YES</td>\n",
       "    </tr>\n",
       "    <tr>\n",
       "      <th>10</th>\n",
       "      <td>fetched_at</td>\n",
       "      <td>timestamp with time zone</td>\n",
       "      <td>YES</td>\n",
       "    </tr>\n",
       "    <tr>\n",
       "      <th>11</th>\n",
       "      <td>fetch_status</td>\n",
       "      <td>text</td>\n",
       "      <td>YES</td>\n",
       "    </tr>\n",
       "    <tr>\n",
       "      <th>12</th>\n",
       "      <td>body_extractor</td>\n",
       "      <td>text</td>\n",
       "      <td>YES</td>\n",
       "    </tr>\n",
       "    <tr>\n",
       "      <th>13</th>\n",
       "      <td>summary</td>\n",
       "      <td>text</td>\n",
       "      <td>YES</td>\n",
       "    </tr>\n",
       "    <tr>\n",
       "      <th>14</th>\n",
       "      <td>validation_status</td>\n",
       "      <td>text</td>\n",
       "      <td>YES</td>\n",
       "    </tr>\n",
       "    <tr>\n",
       "      <th>15</th>\n",
       "      <td>validation_reason</td>\n",
       "      <td>text</td>\n",
       "      <td>YES</td>\n",
       "    </tr>\n",
       "    <tr>\n",
       "      <th>16</th>\n",
       "      <td>source</td>\n",
       "      <td>text</td>\n",
       "      <td>YES</td>\n",
       "    </tr>\n",
       "    <tr>\n",
       "      <th>17</th>\n",
       "      <td>crawl_date</td>\n",
       "      <td>timestamp with time zone</td>\n",
       "      <td>YES</td>\n",
       "    </tr>\n",
       "  </tbody>\n",
       "</table>\n",
       "</div>"
      ],
      "text/plain": [
       "           column_name                 data_type is_nullable\n",
       "0                   id                      text          NO\n",
       "1        published_utc  timestamp with time zone          NO\n",
       "2                title                      text         YES\n",
       "3                  url                      text         YES\n",
       "4          description                      text         YES\n",
       "5              tickers                     ARRAY         YES\n",
       "6                 tags                     ARRAY         YES\n",
       "7   published_date_utc                      date         YES\n",
       "8            full_body                      text         YES\n",
       "9      full_body_chars                   integer         YES\n",
       "10          fetched_at  timestamp with time zone         YES\n",
       "11        fetch_status                      text         YES\n",
       "12      body_extractor                      text         YES\n",
       "13             summary                      text         YES\n",
       "14   validation_status                      text         YES\n",
       "15   validation_reason                      text         YES\n",
       "16              source                      text         YES\n",
       "17          crawl_date  timestamp with time zone         YES"
      ]
     },
     "execution_count": 54,
     "metadata": {},
     "output_type": "execute_result"
    }
   ],
   "source": [
    "with engine.connect() as conn:\n",
    "    schema_df = pd.read_sql(\n",
    "        text(\"\"\"\n",
    "            SELECT column_name, data_type, is_nullable\n",
    "            FROM information_schema.columns\n",
    "            WHERE table_name = 'news_raw'\n",
    "            ORDER BY ordinal_position;\n",
    "        \"\"\"),\n",
    "        conn\n",
    "    )\n",
    "\n",
    "schema_df\n"
   ]
  },
  {
   "cell_type": "code",
   "execution_count": 64,
   "id": "c21e88e4",
   "metadata": {},
   "outputs": [
    {
     "name": "stdout",
     "output_type": "stream",
     "text": [
      "🧮 Total number of rows:\n"
     ]
    },
    {
     "data": {
      "text/html": [
       "<div>\n",
       "<style scoped>\n",
       "    .dataframe tbody tr th:only-of-type {\n",
       "        vertical-align: middle;\n",
       "    }\n",
       "\n",
       "    .dataframe tbody tr th {\n",
       "        vertical-align: top;\n",
       "    }\n",
       "\n",
       "    .dataframe thead th {\n",
       "        text-align: right;\n",
       "    }\n",
       "</style>\n",
       "<table border=\"1\" class=\"dataframe\">\n",
       "  <thead>\n",
       "    <tr style=\"text-align: right;\">\n",
       "      <th></th>\n",
       "      <th>total_rows</th>\n",
       "    </tr>\n",
       "  </thead>\n",
       "  <tbody>\n",
       "    <tr>\n",
       "      <th>0</th>\n",
       "      <td>170</td>\n",
       "    </tr>\n",
       "  </tbody>\n",
       "</table>\n",
       "</div>"
      ],
      "text/plain": [
       "   total_rows\n",
       "0         170"
      ]
     },
     "metadata": {},
     "output_type": "display_data"
    }
   ],
   "source": [
    "# --- 2) Show row count ---\n",
    "with engine.connect() as conn:\n",
    "    count_df = pd.read_sql(\n",
    "        text(\"SELECT COUNT(*) AS total_rows FROM news_raw;\"),\n",
    "        conn\n",
    "    )\n",
    "\n",
    "print(\"🧮 Total number of rows:\")\n",
    "display(count_df)\n"
   ]
  },
  {
   "cell_type": "code",
   "execution_count": 65,
   "id": "ec737746",
   "metadata": {},
   "outputs": [],
   "source": [
    "# --- 3) Display first 5 rows ---\n",
    "with engine.connect() as conn:\n",
    "    preview_df = pd.read_sql(\n",
    "        text(\"\"\"\n",
    "            SELECT *\n",
    "            FROM news_raw\n",
    "            ORDER BY published_utc DESC;\n",
    "        \"\"\"),\n",
    "        conn\n",
    "    )\n",
    "\n"
   ]
  },
  {
   "cell_type": "code",
   "execution_count": 45,
   "id": "ad680816",
   "metadata": {},
   "outputs": [
    {
     "name": "stdout",
     "output_type": "stream",
     "text": [
      "<class 'pandas.core.frame.DataFrame'>\n",
      "RangeIndex: 22 entries, 0 to 21\n",
      "Data columns (total 18 columns):\n",
      " #   Column              Non-Null Count  Dtype              \n",
      "---  ------              --------------  -----              \n",
      " 0   id                  22 non-null     object             \n",
      " 1   published_utc       22 non-null     datetime64[ns, UTC]\n",
      " 2   title               22 non-null     object             \n",
      " 3   url                 22 non-null     object             \n",
      " 4   description         22 non-null     object             \n",
      " 5   tickers             22 non-null     object             \n",
      " 6   tags                22 non-null     object             \n",
      " 7   published_date_utc  22 non-null     object             \n",
      " 8   full_body           22 non-null     object             \n",
      " 9   full_body_chars     22 non-null     int64              \n",
      " 10  fetched_at          22 non-null     datetime64[ns, UTC]\n",
      " 11  fetch_status        22 non-null     object             \n",
      " 12  body_extractor      22 non-null     object             \n",
      " 13  summary             22 non-null     object             \n",
      " 14  validation_status   22 non-null     object             \n",
      " 15  validation_reason   22 non-null     object             \n",
      " 16  source              22 non-null     object             \n",
      " 17  crawl_date          22 non-null     datetime64[ns, UTC]\n",
      "dtypes: datetime64[ns, UTC](3), int64(1), object(14)\n",
      "memory usage: 3.2+ KB\n"
     ]
    }
   ],
   "source": [
    "preview_df.info()"
   ]
  },
  {
   "cell_type": "code",
   "execution_count": 66,
   "id": "37134eaa",
   "metadata": {},
   "outputs": [
    {
     "name": "stdout",
     "output_type": "stream",
     "text": [
      "         date  NVDA  TSLA\n",
      "0  2025-10-01     2    16\n",
      "1  2025-10-02     5    26\n",
      "2  2025-10-03     3    20\n",
      "3  2025-10-04     2     8\n",
      "4  2025-10-05     2     4\n",
      "5  2025-10-06     8    17\n",
      "6  2025-10-07     5    30\n",
      "7  2025-10-08    10    12\n"
     ]
    }
   ],
   "source": [
    "preview_df['date'] = preview_df['published_utc'].dt.date\n",
    "\n",
    "# Create boolean columns for each ticker\n",
    "preview_df['has_nvda'] = preview_df['tickers'].apply(lambda x: 'NVDA' in x)\n",
    "preview_df['has_tsla'] = preview_df['tickers'].apply(lambda x: 'TSLA' in x)\n",
    "\n",
    "# Group by date and sum the boolean columns\n",
    "result = preview_df.groupby('date').agg({\n",
    "    'has_nvda': 'sum',\n",
    "    'has_tsla': 'sum'\n",
    "}).rename(columns={'has_nvda': 'NVDA', 'has_tsla': 'TSLA'}).reset_index()\n",
    "\n",
    "print(result)"
   ]
  },
  {
   "cell_type": "code",
   "execution_count": 48,
   "id": "57f44230",
   "metadata": {},
   "outputs": [
    {
     "name": "stdout",
     "output_type": "stream",
     "text": [
      "Sample tickers values:\n",
      "0    [NVDA]\n",
      "1    [NVDA]\n",
      "2    [NVDA]\n",
      "3    [NVDA]\n",
      "4    [NVDA]\n",
      "5    [NVDA]\n",
      "6    [NVDA]\n",
      "7    [NVDA]\n",
      "8    [NVDA]\n",
      "9    [NVDA]\n",
      "Name: tickers, dtype: object\n",
      "\n",
      "Unique tickers:\n"
     ]
    },
    {
     "ename": "TypeError",
     "evalue": "unhashable type: 'list'",
     "output_type": "error",
     "traceback": [
      "\u001b[0;31m---------------------------------------------------------------------------\u001b[0m",
      "\u001b[0;31mTypeError\u001b[0m                                 Traceback (most recent call last)",
      "Cell \u001b[0;32mIn[48], line 5\u001b[0m\n\u001b[1;32m      3\u001b[0m \u001b[38;5;28mprint\u001b[39m(preview_df[\u001b[38;5;124m'\u001b[39m\u001b[38;5;124mtickers\u001b[39m\u001b[38;5;124m'\u001b[39m]\u001b[38;5;241m.\u001b[39mhead(\u001b[38;5;241m10\u001b[39m))\n\u001b[1;32m      4\u001b[0m \u001b[38;5;28mprint\u001b[39m(\u001b[38;5;124m\"\u001b[39m\u001b[38;5;130;01m\\n\u001b[39;00m\u001b[38;5;124mUnique tickers:\u001b[39m\u001b[38;5;124m\"\u001b[39m)\n\u001b[0;32m----> 5\u001b[0m \u001b[38;5;28mprint\u001b[39m(\u001b[43mpreview_df\u001b[49m\u001b[43m[\u001b[49m\u001b[38;5;124;43m'\u001b[39;49m\u001b[38;5;124;43mtickers\u001b[39;49m\u001b[38;5;124;43m'\u001b[39;49m\u001b[43m]\u001b[49m\u001b[38;5;241;43m.\u001b[39;49m\u001b[43munique\u001b[49m\u001b[43m(\u001b[49m\u001b[43m)\u001b[49m)\n",
      "File \u001b[0;32m~/finreportenv/lib/python3.10/site-packages/pandas/core/series.py:2419\u001b[0m, in \u001b[0;36mSeries.unique\u001b[0;34m(self)\u001b[0m\n\u001b[1;32m   2356\u001b[0m \u001b[38;5;28;01mdef\u001b[39;00m\u001b[38;5;250m \u001b[39m\u001b[38;5;21munique\u001b[39m(\u001b[38;5;28mself\u001b[39m) \u001b[38;5;241m-\u001b[39m\u001b[38;5;241m>\u001b[39m ArrayLike:  \u001b[38;5;66;03m# pylint: disable=useless-parent-delegation\u001b[39;00m\n\u001b[1;32m   2357\u001b[0m \u001b[38;5;250m    \u001b[39m\u001b[38;5;124;03m\"\"\"\u001b[39;00m\n\u001b[1;32m   2358\u001b[0m \u001b[38;5;124;03m    Return unique values of Series object.\u001b[39;00m\n\u001b[1;32m   2359\u001b[0m \n\u001b[0;32m   (...)\u001b[0m\n\u001b[1;32m   2417\u001b[0m \u001b[38;5;124;03m    Categories (3, object): ['a' < 'b' < 'c']\u001b[39;00m\n\u001b[1;32m   2418\u001b[0m \u001b[38;5;124;03m    \"\"\"\u001b[39;00m\n\u001b[0;32m-> 2419\u001b[0m     \u001b[38;5;28;01mreturn\u001b[39;00m \u001b[38;5;28;43msuper\u001b[39;49m\u001b[43m(\u001b[49m\u001b[43m)\u001b[49m\u001b[38;5;241;43m.\u001b[39;49m\u001b[43munique\u001b[49m\u001b[43m(\u001b[49m\u001b[43m)\u001b[49m\n",
      "File \u001b[0;32m~/finreportenv/lib/python3.10/site-packages/pandas/core/base.py:1029\u001b[0m, in \u001b[0;36mIndexOpsMixin.unique\u001b[0;34m(self)\u001b[0m\n\u001b[1;32m   1027\u001b[0m     result \u001b[38;5;241m=\u001b[39m values\u001b[38;5;241m.\u001b[39munique()\n\u001b[1;32m   1028\u001b[0m \u001b[38;5;28;01melse\u001b[39;00m:\n\u001b[0;32m-> 1029\u001b[0m     result \u001b[38;5;241m=\u001b[39m \u001b[43malgorithms\u001b[49m\u001b[38;5;241;43m.\u001b[39;49m\u001b[43munique1d\u001b[49m\u001b[43m(\u001b[49m\u001b[43mvalues\u001b[49m\u001b[43m)\u001b[49m\n\u001b[1;32m   1030\u001b[0m \u001b[38;5;28;01mreturn\u001b[39;00m result\n",
      "File \u001b[0;32m~/finreportenv/lib/python3.10/site-packages/pandas/core/algorithms.py:401\u001b[0m, in \u001b[0;36munique\u001b[0;34m(values)\u001b[0m\n\u001b[1;32m    307\u001b[0m \u001b[38;5;28;01mdef\u001b[39;00m\u001b[38;5;250m \u001b[39m\u001b[38;5;21munique\u001b[39m(values):\n\u001b[1;32m    308\u001b[0m \u001b[38;5;250m    \u001b[39m\u001b[38;5;124;03m\"\"\"\u001b[39;00m\n\u001b[1;32m    309\u001b[0m \u001b[38;5;124;03m    Return unique values based on a hash table.\u001b[39;00m\n\u001b[1;32m    310\u001b[0m \n\u001b[0;32m   (...)\u001b[0m\n\u001b[1;32m    399\u001b[0m \u001b[38;5;124;03m    array([('a', 'b'), ('b', 'a'), ('a', 'c')], dtype=object)\u001b[39;00m\n\u001b[1;32m    400\u001b[0m \u001b[38;5;124;03m    \"\"\"\u001b[39;00m\n\u001b[0;32m--> 401\u001b[0m     \u001b[38;5;28;01mreturn\u001b[39;00m \u001b[43munique_with_mask\u001b[49m\u001b[43m(\u001b[49m\u001b[43mvalues\u001b[49m\u001b[43m)\u001b[49m\n",
      "File \u001b[0;32m~/finreportenv/lib/python3.10/site-packages/pandas/core/algorithms.py:440\u001b[0m, in \u001b[0;36munique_with_mask\u001b[0;34m(values, mask)\u001b[0m\n\u001b[1;32m    438\u001b[0m table \u001b[38;5;241m=\u001b[39m hashtable(\u001b[38;5;28mlen\u001b[39m(values))\n\u001b[1;32m    439\u001b[0m \u001b[38;5;28;01mif\u001b[39;00m mask \u001b[38;5;129;01mis\u001b[39;00m \u001b[38;5;28;01mNone\u001b[39;00m:\n\u001b[0;32m--> 440\u001b[0m     uniques \u001b[38;5;241m=\u001b[39m \u001b[43mtable\u001b[49m\u001b[38;5;241;43m.\u001b[39;49m\u001b[43munique\u001b[49m\u001b[43m(\u001b[49m\u001b[43mvalues\u001b[49m\u001b[43m)\u001b[49m\n\u001b[1;32m    441\u001b[0m     uniques \u001b[38;5;241m=\u001b[39m _reconstruct_data(uniques, original\u001b[38;5;241m.\u001b[39mdtype, original)\n\u001b[1;32m    442\u001b[0m     \u001b[38;5;28;01mreturn\u001b[39;00m uniques\n",
      "File \u001b[0;32mpandas/_libs/hashtable_class_helper.pxi:7260\u001b[0m, in \u001b[0;36mpandas._libs.hashtable.PyObjectHashTable.unique\u001b[0;34m()\u001b[0m\n",
      "File \u001b[0;32mpandas/_libs/hashtable_class_helper.pxi:7203\u001b[0m, in \u001b[0;36mpandas._libs.hashtable.PyObjectHashTable._unique\u001b[0;34m()\u001b[0m\n",
      "\u001b[0;31mTypeError\u001b[0m: unhashable type: 'list'"
     ]
    }
   ],
   "source": [
    "# Check what the tickers column actually looks like\n",
    "print(\"Sample tickers values:\")\n",
    "print(preview_df['tickers'].head(10))\n",
    "print(\"\\nUnique tickers:\")\n",
    "print(preview_df['tickers'].unique())"
   ]
  }
 ],
 "metadata": {
  "kernelspec": {
   "display_name": "finreportenv",
   "language": "python",
   "name": "python3"
  },
  "language_info": {
   "codemirror_mode": {
    "name": "ipython",
    "version": 3
   },
   "file_extension": ".py",
   "mimetype": "text/x-python",
   "name": "python",
   "nbconvert_exporter": "python",
   "pygments_lexer": "ipython3",
   "version": "3.10.12"
  }
 },
 "nbformat": 4,
 "nbformat_minor": 5
}
