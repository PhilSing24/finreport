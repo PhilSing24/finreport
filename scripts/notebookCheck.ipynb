{
 "cells": [
  {
   "cell_type": "code",
   "execution_count": 21,
   "id": "fca59e94",
   "metadata": {},
   "outputs": [
    {
     "data": {
      "text/plain": [
       "<connection object at 0x799ccf047ec0; dsn: 'postgresql:///finreport', closed: 0>"
      ]
     },
     "execution_count": 21,
     "metadata": {},
     "output_type": "execute_result"
    }
   ],
   "source": [
    "# If you see \"No module named psycopg2\" or \"dotenv\", install inside your venv:\n",
    "# %pip install psycopg2-binary python-dotenv pandas\n",
    "\n",
    "import os\n",
    "from pathlib import Path\n",
    "import pandas as pd\n",
    "import psycopg2\n",
    "from dotenv import load_dotenv\n",
    "\n",
    "# Load .env from project root\n",
    "load_dotenv(Path.home() / \"finreport\" / \".env\")\n",
    "\n",
    "PG_DSN = os.getenv(\"PG_DSN\", \"postgresql:///finreport\")\n",
    "\n",
    "conn = psycopg2.connect(PG_DSN)\n",
    "conn\n"
   ]
  },
  {
   "cell_type": "code",
   "execution_count": 22,
   "id": "aa2fd250",
   "metadata": {},
   "outputs": [
    {
     "data": {
      "text/plain": [
       "('2025-10-02', '2025-10-02', '2025-10-03')"
      ]
     },
     "execution_count": 22,
     "metadata": {},
     "output_type": "execute_result"
    }
   ],
   "source": [
    "# Choose a UTC date and optional filters\n",
    "DAY = \"2025-10-02\"    # <-- change\n",
    "TICKERS = [\"NVDA\", \"TSLA\"]  # set [] for “any”\n",
    "SOURCE_ONLY = \"finance.yahoo.com\"  # set None for “any source”\n",
    "\n",
    "DAY_START = DAY\n",
    "DAY_END = (pd.to_datetime(DAY) + pd.Timedelta(days=1)).date().isoformat()\n",
    "\n",
    "DAY, DAY_START, DAY_END\n"
   ]
  },
  {
   "cell_type": "code",
   "execution_count": 23,
   "id": "bda81e37",
   "metadata": {},
   "outputs": [
    {
     "name": "stdout",
     "output_type": "stream",
     "text": [
      "Fetched rows: 36\n"
     ]
    },
    {
     "name": "stderr",
     "output_type": "stream",
     "text": [
      "/tmp/ipykernel_424577/2581031808.py:41: UserWarning: pandas only supports SQLAlchemy connectable (engine/connection) or database string URI or sqlite3 DBAPI2 connection. Other DBAPI2 objects are not tested. Please consider using SQLAlchemy.\n",
      "  df = pd.read_sql(sql, conn, params=params)\n"
     ]
    }
   ],
   "source": [
    "where = [\n",
    "    \"published_date_utc >= %s::date\",\n",
    "    \"published_date_utc <  %s::date\",\n",
    "    \"fetch_status = 'ok'\",\n",
    "    \"full_body IS NOT NULL\"\n",
    "]\n",
    "params = [DAY_START, DAY_END]\n",
    "\n",
    "if SOURCE_ONLY:\n",
    "    where.append(\"publisher->>'name' = %s\")\n",
    "    params.append(SOURCE_ONLY)\n",
    "\n",
    "if TICKERS:\n",
    "    # e.g., TICKERS = ['NVDA','TSLA']\n",
    "    where.append(\"EXISTS (SELECT 1 FROM unnest(tickers) t WHERE t = ANY(%s))\")\n",
    "    params.append(TICKERS)\n",
    "\n",
    "sql = f\"\"\"\n",
    "SELECT\n",
    "    id,\n",
    "    published_utc,\n",
    "    title,\n",
    "    article_url AS url,\n",
    "    description,\n",
    "    image_url,\n",
    "    publisher->>'name' AS source,\n",
    "    tickers,\n",
    "    keywords,\n",
    "    published_date_utc,\n",
    "    full_body,\n",
    "    full_body_chars,\n",
    "    fetched_at,\n",
    "    fetch_status,\n",
    "    body_extractor,\n",
    "    summary\n",
    "FROM news_raw\n",
    "WHERE {' AND '.join(where)}\n",
    "ORDER BY published_utc;\n",
    "\"\"\"\n",
    "\n",
    "df = pd.read_sql(sql, conn, params=params)\n",
    "print(\"Fetched rows:\", len(df))\n"
   ]
  },
  {
   "cell_type": "code",
   "execution_count": 37,
   "id": "d527dcd1",
   "metadata": {},
   "outputs": [],
   "source": [
    "df2=df[[\"id\",\"published_utc\",\"title\",\"tickers\",\"description\",\"keywords\",\"summary\",\"url\",\"full_body\",\"full_body_chars\"]]"
   ]
  },
  {
   "cell_type": "code",
   "execution_count": 38,
   "id": "12e7a302",
   "metadata": {},
   "outputs": [
    {
     "data": {
      "text/html": [
       "<div>\n",
       "<style scoped>\n",
       "    .dataframe tbody tr th:only-of-type {\n",
       "        vertical-align: middle;\n",
       "    }\n",
       "\n",
       "    .dataframe tbody tr th {\n",
       "        vertical-align: top;\n",
       "    }\n",
       "\n",
       "    .dataframe thead th {\n",
       "        text-align: right;\n",
       "    }\n",
       "</style>\n",
       "<table border=\"1\" class=\"dataframe\">\n",
       "  <thead>\n",
       "    <tr style=\"text-align: right;\">\n",
       "      <th></th>\n",
       "      <th>id</th>\n",
       "      <th>published_utc</th>\n",
       "      <th>title</th>\n",
       "      <th>tickers</th>\n",
       "      <th>description</th>\n",
       "      <th>keywords</th>\n",
       "      <th>summary</th>\n",
       "      <th>url</th>\n",
       "      <th>full_body</th>\n",
       "      <th>full_body_chars</th>\n",
       "    </tr>\n",
       "  </thead>\n",
       "  <tbody>\n",
       "    <tr>\n",
       "      <th>0</th>\n",
       "      <td>tiingo:88275289</td>\n",
       "      <td>2025-10-02 00:37:00+00:00</td>\n",
       "      <td>Amazon’s new Alexa feature impacts Nvidia</td>\n",
       "      <td>[NVDA]</td>\n",
       "      <td>Amazon's decision has consequences for suppliers.</td>\n",
       "      <td>[alexa free, alexa available, alexa just, alexa amazon, backend alexa, alexa latest, tvs alexa, alexa rollout]</td>\n",
       "      <td>Amazon (AMZN) is adding generative AI to daily usage as a basic, permanent layer. This won't just improve voice quer...</td>\n",
       "      <td>https://finance.yahoo.com/news/amazon-alexa-feature-impacts-nvidia-003700735.html</td>\n",
       "      <td>Alexa+ is now available for early access on certain Echo devices. It will also be included in future Fire TV devices...</td>\n",
       "      <td>2675</td>\n",
       "    </tr>\n",
       "    <tr>\n",
       "      <th>1</th>\n",
       "      <td>tiingo:88284459</td>\n",
       "      <td>2025-10-02 09:59:02+00:00</td>\n",
       "      <td>Nvidia CEO Jensen Huang calls Elon Musk the 'ultimate GPU'</td>\n",
       "      <td>[NVDA]</td>\n",
       "      <td>Nvidia CEO Jensen Huang said that \"all of the interdependencies\" of supercomputing reside in one head: Elon Musk's.</td>\n",
       "      <td>[supercomputer huang, ai supercomputers, gigawatt ai, ceo musk, million gpus, nvidia ceo, build ai, xai colossus]</td>\n",
       "      <td>Huang has good reason to praise the Tesla CEO — Musk's companies are major Nvidia customers, after all. The Colossus...</td>\n",
       "      <td>https://finance.yahoo.com/news/nvidia-ceo-jensen-huang-calls-095902235.html</td>\n",
       "      <td>-\\nJensen Huang said that Elon Musk is capable of keeping \"all of the interdependencies\" of supercomputing in his he...</td>\n",
       "      <td>2441</td>\n",
       "    </tr>\n",
       "    <tr>\n",
       "      <th>2</th>\n",
       "      <td>tiingo:88285492</td>\n",
       "      <td>2025-10-02 10:33:19+00:00</td>\n",
       "      <td>Tesla's Sales Decline Expected to Slow in Delivery Report</td>\n",
       "      <td>[TSLA]</td>\n",
       "      <td>The pace of Tesla Inc.'s sales decline is expected to slow, as analysts expect the company likely delivered around 4...</td>\n",
       "      <td>[tesla sales, tesla, sales decline, pace tesla, ago tesla, quarterly decrease, 600 vehicles, slow analysts]</td>\n",
       "      <td>The pace of Tesla Inc.'s sales decline is expected to slow, as analysts expect the company likely delivered around 4...</td>\n",
       "      <td>https://finance.yahoo.com/video/teslas-sales-decline-expected-slow-103319957.html</td>\n",
       "      <td>The pace of Tesla Inc.'s sales decline is expected to slow, as analysts expect the company likely delivered around 4...</td>\n",
       "      <td>335</td>\n",
       "    </tr>\n",
       "    <tr>\n",
       "      <th>3</th>\n",
       "      <td>tiingo:88285119</td>\n",
       "      <td>2025-10-02 10:52:05+00:00</td>\n",
       "      <td>OpenAI’s Stargate locks in Korean chipmakers, boosting shares</td>\n",
       "      <td>[NVDA]</td>\n",
       "      <td>SK Hynix and Samsung are poised to benefit from unprecedented demand for high-bandwidth memory as OpenAI embarks on ...</td>\n",
       "      <td>[memory market, samsung electronics, memory hbm, global dram, hbm stargate, chip sector, supercomputers, korea biggest]</td>\n",
       "      <td>High-bandwidth memory (HBM) is crucial for AI because it allows chips like Nvidia’s to move massive amounts of data ...</td>\n",
       "      <td>https://finance.yahoo.com/news/openai-stargate-locks-korean-chipmakers-105205593.html</td>\n",
       "      <td>Two of South Korea’s biggest technology firms saw their shares jump in Seoul trading on Thursday after OpenAI announ...</td>\n",
       "      <td>2798</td>\n",
       "    </tr>\n",
       "    <tr>\n",
       "      <th>4</th>\n",
       "      <td>tiingo:88285129</td>\n",
       "      <td>2025-10-02 11:00:00+00:00</td>\n",
       "      <td>DigitalOcean Launches New Products and Innovations at Deploy Conference</td>\n",
       "      <td>[NVDA]</td>\n",
       "      <td>BROOMFIELD, Colo., October 02, 2025--DigitalOcean, the simplest scalable cloud for digital native enterprises, today...</td>\n",
       "      <td>[cloud digital, cloud experience, ai cloud, digitalocean announced, capabilities platform, ai product, soon expandin...</td>\n",
       "      <td>At the conference, the company showcased the improvements in its growing AI product portfolio. DigitalOcean’s Gradie...</td>\n",
       "      <td>https://finance.yahoo.com/news/digitalocean-launches-products-innovations-deploy-110000125.html</td>\n",
       "      <td>In London, DigitalOcean raises the bar for cloud experience for digital native enterprises and developers\\nBROOMFIEL...</td>\n",
       "      <td>2557</td>\n",
       "    </tr>\n",
       "  </tbody>\n",
       "</table>\n",
       "</div>"
      ],
      "text/plain": [
       "                id             published_utc  \\\n",
       "0  tiingo:88275289 2025-10-02 00:37:00+00:00   \n",
       "1  tiingo:88284459 2025-10-02 09:59:02+00:00   \n",
       "2  tiingo:88285492 2025-10-02 10:33:19+00:00   \n",
       "3  tiingo:88285119 2025-10-02 10:52:05+00:00   \n",
       "4  tiingo:88285129 2025-10-02 11:00:00+00:00   \n",
       "\n",
       "                                                                     title  \\\n",
       "0                                Amazon’s new Alexa feature impacts Nvidia   \n",
       "1               Nvidia CEO Jensen Huang calls Elon Musk the 'ultimate GPU'   \n",
       "2                Tesla's Sales Decline Expected to Slow in Delivery Report   \n",
       "3            OpenAI’s Stargate locks in Korean chipmakers, boosting shares   \n",
       "4  DigitalOcean Launches New Products and Innovations at Deploy Conference   \n",
       "\n",
       "  tickers  \\\n",
       "0  [NVDA]   \n",
       "1  [NVDA]   \n",
       "2  [TSLA]   \n",
       "3  [NVDA]   \n",
       "4  [NVDA]   \n",
       "\n",
       "                                                                                                               description  \\\n",
       "0                                                                        Amazon's decision has consequences for suppliers.   \n",
       "1      Nvidia CEO Jensen Huang said that \"all of the interdependencies\" of supercomputing reside in one head: Elon Musk's.   \n",
       "2  The pace of Tesla Inc.'s sales decline is expected to slow, as analysts expect the company likely delivered around 4...   \n",
       "3  SK Hynix and Samsung are poised to benefit from unprecedented demand for high-bandwidth memory as OpenAI embarks on ...   \n",
       "4  BROOMFIELD, Colo., October 02, 2025--DigitalOcean, the simplest scalable cloud for digital native enterprises, today...   \n",
       "\n",
       "                                                                                                                  keywords  \\\n",
       "0           [alexa free, alexa available, alexa just, alexa amazon, backend alexa, alexa latest, tvs alexa, alexa rollout]   \n",
       "1        [supercomputer huang, ai supercomputers, gigawatt ai, ceo musk, million gpus, nvidia ceo, build ai, xai colossus]   \n",
       "2              [tesla sales, tesla, sales decline, pace tesla, ago tesla, quarterly decrease, 600 vehicles, slow analysts]   \n",
       "3  [memory market, samsung electronics, memory hbm, global dram, hbm stargate, chip sector, supercomputers, korea biggest]   \n",
       "4  [cloud digital, cloud experience, ai cloud, digitalocean announced, capabilities platform, ai product, soon expandin...   \n",
       "\n",
       "                                                                                                                   summary  \\\n",
       "0  Amazon (AMZN) is adding generative AI to daily usage as a basic, permanent layer. This won't just improve voice quer...   \n",
       "1  Huang has good reason to praise the Tesla CEO — Musk's companies are major Nvidia customers, after all. The Colossus...   \n",
       "2  The pace of Tesla Inc.'s sales decline is expected to slow, as analysts expect the company likely delivered around 4...   \n",
       "3  High-bandwidth memory (HBM) is crucial for AI because it allows chips like Nvidia’s to move massive amounts of data ...   \n",
       "4  At the conference, the company showcased the improvements in its growing AI product portfolio. DigitalOcean’s Gradie...   \n",
       "\n",
       "                                                                                               url  \\\n",
       "0                https://finance.yahoo.com/news/amazon-alexa-feature-impacts-nvidia-003700735.html   \n",
       "1                      https://finance.yahoo.com/news/nvidia-ceo-jensen-huang-calls-095902235.html   \n",
       "2                https://finance.yahoo.com/video/teslas-sales-decline-expected-slow-103319957.html   \n",
       "3            https://finance.yahoo.com/news/openai-stargate-locks-korean-chipmakers-105205593.html   \n",
       "4  https://finance.yahoo.com/news/digitalocean-launches-products-innovations-deploy-110000125.html   \n",
       "\n",
       "                                                                                                                 full_body  \\\n",
       "0  Alexa+ is now available for early access on certain Echo devices. It will also be included in future Fire TV devices...   \n",
       "1  -\\nJensen Huang said that Elon Musk is capable of keeping \"all of the interdependencies\" of supercomputing in his he...   \n",
       "2  The pace of Tesla Inc.'s sales decline is expected to slow, as analysts expect the company likely delivered around 4...   \n",
       "3  Two of South Korea’s biggest technology firms saw their shares jump in Seoul trading on Thursday after OpenAI announ...   \n",
       "4  In London, DigitalOcean raises the bar for cloud experience for digital native enterprises and developers\\nBROOMFIEL...   \n",
       "\n",
       "   full_body_chars  \n",
       "0             2675  \n",
       "1             2441  \n",
       "2              335  \n",
       "3             2798  \n",
       "4             2557  "
      ]
     },
     "execution_count": 38,
     "metadata": {},
     "output_type": "execute_result"
    }
   ],
   "source": [
    "df2.head()"
   ]
  },
  {
   "cell_type": "code",
   "execution_count": 31,
   "id": "46813713",
   "metadata": {},
   "outputs": [
    {
     "name": "stdout",
     "output_type": "stream",
     "text": [
      "Huang has good reason to praise the Tesla CEO — Musk's companies are major Nvidia customers, after all. The Colossus II comprises at least 200,000 Nvidia GPUs. The supercomputer aims to expand to at least 1 million GPUs. That being said, Nvidia's chips have quickly become a hot commodity, with the company supplying much of computing systems in Big Tech's AI race. Last week, Nvidia announced a $100 billion into OpenAI — helmed by Musk's frenemy Sam Altman — to support the build-out of AI data centers.\n",
      "\n",
      "Musk is building xAI's Colossus II data center outside of Memphis, Tennessee. He has already spent at least $400 million on the world's largest supercomputer, per documents reviewed by Business Insider.\n"
     ]
    }
   ],
   "source": [
    "print(df2.iat[1,4])"
   ]
  },
  {
   "cell_type": "code",
   "execution_count": 4,
   "id": "3c8c5f60",
   "metadata": {},
   "outputs": [
    {
     "name": "stdout",
     "output_type": "stream",
     "text": [
      "Counts by fetch_status\n"
     ]
    },
    {
     "data": {
      "text/plain": [
       "fetch_status\n",
       "ok    36\n",
       "Name: count, dtype: int64"
      ]
     },
     "metadata": {},
     "output_type": "display_data"
    },
    {
     "name": "stdout",
     "output_type": "stream",
     "text": [
      "\n",
      "Sources:\n"
     ]
    },
    {
     "data": {
      "text/plain": [
       "source\n",
       "finance.yahoo.com    36\n",
       "Name: count, dtype: int64"
      ]
     },
     "metadata": {},
     "output_type": "display_data"
    },
    {
     "name": "stdout",
     "output_type": "stream",
     "text": [
      "\n",
      "Body presence:\n"
     ]
    },
    {
     "data": {
      "text/plain": [
       "full_body\n",
       "True    36\n",
       "Name: count, dtype: int64"
      ]
     },
     "metadata": {},
     "output_type": "display_data"
    },
    {
     "data": {
      "text/html": [
       "<div>\n",
       "<style scoped>\n",
       "    .dataframe tbody tr th:only-of-type {\n",
       "        vertical-align: middle;\n",
       "    }\n",
       "\n",
       "    .dataframe tbody tr th {\n",
       "        vertical-align: top;\n",
       "    }\n",
       "\n",
       "    .dataframe thead th {\n",
       "        text-align: right;\n",
       "    }\n",
       "</style>\n",
       "<table border=\"1\" class=\"dataframe\">\n",
       "  <thead>\n",
       "    <tr style=\"text-align: right;\">\n",
       "      <th></th>\n",
       "      <th>body_chars</th>\n",
       "      <th>word_est</th>\n",
       "      <th>token_est</th>\n",
       "    </tr>\n",
       "  </thead>\n",
       "  <tbody>\n",
       "    <tr>\n",
       "      <th>count</th>\n",
       "      <td>36.000000</td>\n",
       "      <td>36.000000</td>\n",
       "      <td>36.000000</td>\n",
       "    </tr>\n",
       "    <tr>\n",
       "      <th>mean</th>\n",
       "      <td>2051.833333</td>\n",
       "      <td>342.000000</td>\n",
       "      <td>513.083333</td>\n",
       "    </tr>\n",
       "    <tr>\n",
       "      <th>std</th>\n",
       "      <td>868.115414</td>\n",
       "      <td>144.726145</td>\n",
       "      <td>216.973254</td>\n",
       "    </tr>\n",
       "    <tr>\n",
       "      <th>min</th>\n",
       "      <td>266.000000</td>\n",
       "      <td>44.000000</td>\n",
       "      <td>66.000000</td>\n",
       "    </tr>\n",
       "    <tr>\n",
       "      <th>25%</th>\n",
       "      <td>1514.750000</td>\n",
       "      <td>252.000000</td>\n",
       "      <td>379.000000</td>\n",
       "    </tr>\n",
       "    <tr>\n",
       "      <th>50%</th>\n",
       "      <td>2455.500000</td>\n",
       "      <td>409.500000</td>\n",
       "      <td>614.000000</td>\n",
       "    </tr>\n",
       "    <tr>\n",
       "      <th>75%</th>\n",
       "      <td>2720.500000</td>\n",
       "      <td>453.500000</td>\n",
       "      <td>680.500000</td>\n",
       "    </tr>\n",
       "    <tr>\n",
       "      <th>max</th>\n",
       "      <td>3071.000000</td>\n",
       "      <td>512.000000</td>\n",
       "      <td>768.000000</td>\n",
       "    </tr>\n",
       "  </tbody>\n",
       "</table>\n",
       "</div>"
      ],
      "text/plain": [
       "        body_chars    word_est   token_est\n",
       "count    36.000000   36.000000   36.000000\n",
       "mean   2051.833333  342.000000  513.083333\n",
       "std     868.115414  144.726145  216.973254\n",
       "min     266.000000   44.000000   66.000000\n",
       "25%    1514.750000  252.000000  379.000000\n",
       "50%    2455.500000  409.500000  614.000000\n",
       "75%    2720.500000  453.500000  680.500000\n",
       "max    3071.000000  512.000000  768.000000"
      ]
     },
     "execution_count": 4,
     "metadata": {},
     "output_type": "execute_result"
    }
   ],
   "source": [
    "pd.set_option(\"display.max_colwidth\", 120)\n",
    "\n",
    "print(\"Counts by fetch_status\")\n",
    "display(df[\"fetch_status\"].value_counts(dropna=False))\n",
    "\n",
    "print(\"\\nSources:\")\n",
    "display(df[\"source\"].value_counts().head(15))\n",
    "\n",
    "print(\"\\nBody presence:\")\n",
    "display(df[\"full_body\"].notna().value_counts())\n",
    "\n",
    "# Add convenience metrics\n",
    "df[\"body_chars\"] = df[\"full_body\"].map(lambda x: len(x) if isinstance(x, str) else 0)\n",
    "df[\"word_est\"]   = (df[\"body_chars\"] / 6).round().astype(int)   # rough words\n",
    "df[\"token_est\"]  = (df[\"body_chars\"] / 4).round().astype(int)   # rough tokens\n",
    "df[[\"body_chars\",\"word_est\",\"token_est\"]].describe()\n"
   ]
  }
 ],
 "metadata": {
  "kernelspec": {
   "display_name": "finreportenv",
   "language": "python",
   "name": "python3"
  },
  "language_info": {
   "codemirror_mode": {
    "name": "ipython",
    "version": 3
   },
   "file_extension": ".py",
   "mimetype": "text/x-python",
   "name": "python",
   "nbconvert_exporter": "python",
   "pygments_lexer": "ipython3",
   "version": "3.10.12"
  }
 },
 "nbformat": 4,
 "nbformat_minor": 5
}
